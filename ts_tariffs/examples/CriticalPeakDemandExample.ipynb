{
 "cells": [
  {
   "cell_type": "code",
   "execution_count": null,
   "outputs": [],
   "source": [
    "from datetime import timedelta\n",
    "\n",
    "from ts_tariffs.examples.data_getters import houshold_consumption\n",
    "\n",
    "from ts_tariffs.meters import MeterData\n",
    "from ts_tariffs.tariffs import CriticalPeakDemandTariff\n",
    "from ts_tariffs.ts_utils import DateWindow, DatetimeWindow\n",
    "\n",
    "data = houshold_consumption(30, 'minute')\n",
    "meter = MeterData(\n",
    "    'household_consumption',\n",
    "    data['apparent_power'],\n",
    "    timedelta(minutes=30),\n",
    "    'kVA'\n",
    ")\n",
    "print(meter.first_datetime(), meter.last_datetime())\n",
    "\n",
    "cpd_tariff = CriticalPeakDemandTariff(\n",
    "    name='cpd_tariff',\n",
    "    charge_type='CriticalPeakDemandTariff',\n",
    "    consumption_unit='kVA',\n",
    "    rate_unit='dollars /kVA',\n",
    "    sample_rate=timedelta(hours=0.5),\n",
    "    adjustment_factor=1.0,\n",
    "    rate=100,\n",
    "    frequency_applied='month',\n",
    "    period_active=DateWindow(\n",
    "        start=(2008, 4, 1),\n",
    "        end=(2009, 3, 31)\n",
    "    ),\n",
    "    critical_period=DateWindow(\n",
    "        start=(2007, 12, 1),\n",
    "        end=(2008, 3, 1)\n",
    "    ),\n",
    "    critical_peak_windows=[\n",
    "        DatetimeWindow(\n",
    "            start=(2007, 12, 12, 15),\n",
    "            end=(2007, 12, 12, 19)\n",
    "        ),\n",
    "        DatetimeWindow(\n",
    "            start=(2008, 1, 5, 15),\n",
    "            end=(2008, 1, 5, 19)\n",
    "        ),\n",
    "        DatetimeWindow(\n",
    "            start=(2008, 1, 30, 15),\n",
    "            end=(2008, 1, 30, 19)\n",
    "        ),\n",
    "        DatetimeWindow(\n",
    "            start=(2008, 2, 24, 15),\n",
    "            end=(2008, 2, 24, 19)\n",
    "        ),\n",
    "        DatetimeWindow(\n",
    "            start=(2008, 3, 12, 15),\n",
    "            end=(2008, 3, 12, 19)\n",
    "        ),\n",
    "    ]\n",
    ")\n",
    "applied_charge = cpd_tariff.apply(meter)"
   ],
   "metadata": {
    "collapsed": false,
    "pycharm": {
     "name": "#%%\n"
    }
   }
  }
 ],
 "metadata": {
  "kernelspec": {
   "display_name": "Python 3",
   "language": "python",
   "name": "python3"
  },
  "language_info": {
   "codemirror_mode": {
    "name": "ipython",
    "version": 2
   },
   "file_extension": ".py",
   "mimetype": "text/x-python",
   "name": "python",
   "nbconvert_exporter": "python",
   "pygments_lexer": "ipython2",
   "version": "2.7.6"
  }
 },
 "nbformat": 4,
 "nbformat_minor": 0
}