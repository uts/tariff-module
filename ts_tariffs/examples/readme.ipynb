{
 "cells": [
  {
   "cell_type": "markdown",
   "source": [
    "#Tariff calculation for time series consumption data.\n",
    "\n",
    "## Installation\n",
    "\n",
    "`pip install ts-tariffs`\n",
    "\n",
    "## Usage and features\n",
    "ts-tariffs can deal with any combination of typical electricity charges:\n",
    "- Connection charges\n",
    "- Single rate charges\n",
    "- Time of use charges\n",
    "- Demand charges, including those which are split into time of use\n",
    "- Block charges\n",
    "## Examples\n",
    "\n",
    "### Creating Tariffs"
   ],
   "metadata": {
    "collapsed": false
   }
  },
  {
   "cell_type": "code",
   "execution_count": null,
   "outputs": [],
   "source": [
    "from ts_tariffs.tariffs import SingleRateTariff\n",
    "\n",
    "my_tariff = SingleRateTariff(\n",
    "    name='my_tariff',\n",
    "    charge_type=\"SingleRateTariff\",\n",
    "    rate=0.07,\n",
    "    consumption_unit='kWh',\n",
    "    rate_unit='dollars / kWh',\n",
    "    adjustment_factor=1.05\n",
    ")"
   ],
   "metadata": {
    "collapsed": false,
    "pycharm": {
     "name": "#%%\n"
    }
   }
  },
  {
   "cell_type": "markdown",
   "source": [
    "Or can be easily instantiated using a dict:"
   ],
   "metadata": {
    "collapsed": false,
    "pycharm": {
     "name": "#%% md\n"
    }
   }
  },
  {
   "cell_type": "code",
   "execution_count": null,
   "outputs": [],
   "source": [
    "my_tariff_dict = {\n",
    "      \"name\": \"my_tariff\",\n",
    "      \"charge_type\": \"SingleRateTariff\",\n",
    "      \"rate\": 0.07,\n",
    "      \"consumption_unit\": \"kWh\",\n",
    "      \"rate_unit\": \"dollars / kWh\",\n",
    "      \"adjustment_factor\": 1.005\n",
    "}\n",
    "my_tariff = SingleRateTariff(**my_tariff_dict)"
   ],
   "metadata": {
    "collapsed": false,
    "pycharm": {
     "name": "#%%\n"
    }
   }
  },
  {
   "cell_type": "markdown",
   "source": [
    "### Consumption data and billing\n",
    "Consumtion data should be stored in a `MeterData` object using a `pd.Series` with a `datetime` index.\n",
    "\n",
    "For example, `meter_data_df` below is a `pd.DataFrame` object with a datetime index at 30min frequency, and a consumption column called `'energy'`. You can use it to create a `MeterData` object as follows:"
   ],
   "metadata": {
    "collapsed": false,
    "pycharm": {
     "name": "#%% md\n"
    }
   }
  },
  {
   "cell_type": "code",
   "execution_count": null,
   "outputs": [],
   "source": [
    "from ts_tariffs.meters import MeterData\n",
    "from ts_tariffs.examples.data_getters import houshold_consumption\n",
    "from datetime import timedelta\n",
    "\n",
    "meter_data_df = houshold_consumption(30, 'minute')\n",
    "\n",
    "my_meter_data = MeterData(\n",
    "    name='energy',\n",
    "    tseries=meter_data_df['energy'],\n",
    "    sample_rate=timedelta(hours=0.5),\n",
    "    units='kWh'\n",
    ")"
   ],
   "metadata": {
    "collapsed": false,
    "pycharm": {
     "name": "#%%\n"
    }
   }
  },
  {
   "cell_type": "markdown",
   "source": [
    "Now you can calculate the cost of energy  tariffs to meter data by calling the `Tariff.apply() method`. This returns an `AppliedCharge` object which contains the total sum of charges, as well as other data and metadata, depending on the tariff type"
   ],
   "metadata": {
    "collapsed": false,
    "pycharm": {
     "name": "#%% md\n"
    }
   }
  },
  {
   "cell_type": "code",
   "execution_count": null,
   "outputs": [],
   "source": [
    "applied_charge = my_tariff.apply(my_meter_data)"
   ],
   "metadata": {
    "collapsed": false,
    "pycharm": {
     "name": "#%%\n"
    }
   }
  },
  {
   "cell_type": "markdown",
   "source": [
    "A `Bill` object consists of one or many `AppliedCharge` objects. It can be used to tabulate the charge totals for all tariffs given a :"
   ],
   "metadata": {
    "collapsed": false,
    "pycharm": {
     "name": "#%% md\n"
    }
   }
  },
  {
   "cell_type": "code",
   "execution_count": null,
   "outputs": [],
   "source": [
    "{\n",
    "      \"name\": \"retail_tou\",\n",
    "      \"charge_type\": \"TouTariff\",\n",
    "      \"consumption_unit\": \"kWh\",\n",
    "      \"rate_unit\": \"dollars / kWh\",\n",
    "      \"adjustment_factor\": 1.005,\n",
    "      \"tou\": {\n",
    "        \"time_bins\": [\n",
    "          7,\n",
    "          21,\n",
    "          24\n",
    "        ],\n",
    "        \"bin_rates\": [\n",
    "          0.06,\n",
    "          0.10,\n",
    "          0.06\n",
    "        ],\n",
    "        \"bin_labels\": [\n",
    "          \"off-peak\",\n",
    "          \"peak\",\n",
    "          \"off-peak\"\n",
    "        ]\n",
    "      },\n",
    "    },\n",
    "\n",
    "\n"
   ],
   "metadata": {
    "collapsed": false,
    "pycharm": {
     "name": "#%%\n"
    }
   }
  }
 ],
 "metadata": {
  "kernelspec": {
   "display_name": "Python 3",
   "language": "python",
   "name": "python3"
  },
  "language_info": {
   "codemirror_mode": {
    "name": "ipython",
    "version": 2
   },
   "file_extension": ".py",
   "mimetype": "text/x-python",
   "name": "python",
   "nbconvert_exporter": "python",
   "pygments_lexer": "ipython2",
   "version": "2.7.6"
  }
 },
 "nbformat": 4,
 "nbformat_minor": 0
}