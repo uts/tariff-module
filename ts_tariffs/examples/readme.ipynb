{
 "cells": [
  {
   "cell_type": "markdown",
   "metadata": {},
   "source": [
    "#Tariff calculation for time series consumption data.\n",
    "\n",
    "## Installation\n",
    "\n",
    "`pip install ts-tariffs`\n",
    "\n",
    "## Usage and features\n",
    "ts-tariffs can deal with any combination of typical electricity charges:\n",
    "- Connection charges\n",
    "- Single rate charges\n",
    "- Time of use charges\n",
    "- Demand charges, including those which are split into time of use\n",
    "- Block charges\n",
    "## Examples\n",
    "\n",
    "### Creating Tariffs\n",
    "Tariffs can be instantiated by individually specifying parameters:"
   ]
  },
  {
   "cell_type": "code",
   "execution_count": null,
   "metadata": {
    "collapsed": false,
    "jupyter": {
     "outputs_hidden": false
    },
    "pycharm": {
     "name": "#%%\n"
    }
   },
   "outputs": [],
   "source": [
    "from ts_tariffs.tariffs import (\n",
    "    SingleRateTariff, \n",
    "    ConnectionTariff, \n",
    "    TouTariff, \n",
    "    DemandTariff, \n",
    "    BlockTariff, \n",
    "    CapacityTariff,\n",
    ")\n",
    "from ts_tariffs.ts_utils import SampleRate\n",
    "\n",
    "single_rate_tariff = SingleRateTariff(\n",
    "    name='single_rate_tariff',\n",
    "    charge_type=\"SingleRateTariff\",\n",
    "    rate=0.07,\n",
    "    consumption_unit='kWh',\n",
    "    rate_unit='dollars / kWh',\n",
    "    sample_rate=SampleRate(multiplier=30, base_freq='minutes'),\n",
    "    adjustment_factor=1.05\n",
    ")"
   ]
  },
  {
   "cell_type": "markdown",
   "metadata": {
    "pycharm": {
     "name": "#%% md\n"
    }
   },
   "source": [
    "Or can be easily instantiated given a dict of appropriate structure:"
   ]
  },
  {
   "cell_type": "code",
   "execution_count": null,
   "metadata": {
    "collapsed": false,
    "jupyter": {
     "outputs_hidden": false
    },
    "pycharm": {
     "name": "#%%\n"
    }
   },
   "outputs": [],
   "source": [
    "single_rate_dict = {\n",
    "    \"name\": \"single_rate_tariff\",\n",
    "    \"charge_type\": \"SingleRateTariff\",\n",
    "    \"rate\": 0.07,\n",
    "    \"consumption_unit\": \"kWh\",\n",
    "    \"sample_rate\": {\n",
    "        \"multiplier\": 30,\n",
    "        \"base_freq\": \"minutes\"\n",
    "    },\n",
    "    \"rate_unit\": \"dollars / kWh\",\n",
    "    \"adjustment_factor\": 1.005\n",
    "}\n",
    "\n",
    "tou_tariff_dict = {\n",
    "    \"name\": \"retail_tou\",\n",
    "    \"charge_type\": \"TouTariff\",\n",
    "    \"consumption_unit\": \"kWh\",\n",
    "    \"sample_rate\": {\n",
    "        \"multiplier\": 30,\n",
    "        \"base_freq\": \"minutes\"\n",
    "    },\n",
    "    \"rate_unit\": \"dollars / kWh\",\n",
    "    \"adjustment_factor\": 1.005,\n",
    "    \"tou\": {\n",
    "        \"time_bins\": [\n",
    "            7,\n",
    "            21,\n",
    "            24\n",
    "        ],\n",
    "        \"bin_rates\": [\n",
    "            0.06,\n",
    "            0.10,\n",
    "            0.06\n",
    "        ],\n",
    "        \"bin_labels\": [\n",
    "            \"off-peak\",\n",
    "            \"peak\",\n",
    "            \"off-peak\"\n",
    "        ]\n",
    "    },\n",
    "}\n",
    "connection_tariff_dict = {\n",
    "    \"name\": \"connection_tariff\",\n",
    "    \"charge_type\": \"ConnectionTariff\",\n",
    "    \"rate\": 315.0,\n",
    "    \"consumption_unit\": \"day\",\n",
    "    \"frequency_applied\": \"day\",\n",
    "    \"sample_rate\": {\n",
    "        \"multiplier\": 30,\n",
    "        \"base_freq\": \"minutes\"\n",
    "    },\n",
    "    \"rate_unit\": \"dollars / day\",\n",
    "    \"adjustment_factor\": 1.0\n",
    "}\n",
    "\n",
    "single_rate_tariff = SingleRateTariff.from_dict(single_rate_dict)\n",
    "tou_tariff = TouTariff.from_dict(tou_tariff_dict)\n",
    "connection_tariff = ConnectionTariff.from_dict(connection_tariff_dict)"
   ]
  },
  {
   "cell_type": "markdown",
   "metadata": {
    "pycharm": {
     "name": "#%% md\n"
    }
   },
   "source": [
    "### Consumption data and billing\n",
    "The ts-tariffs library provides a `MeterData` object for handling timeseries consumption data. It accepts a `pd.Series` with a `datetime` index as a representation of consumtion.\n",
    "\n",
    "The sample rate must be specified manually with a `timedelta` of `SampleRate` object (in future versions this may end up being inferred from the series index, but there are presently issues with this approach).\n",
    "\n",
    "Consumption units must also be specified such that they are coherent with the tariffs that are applied to them (this is particularly important for `Meters` objects in which multiple tariffs can be bundled together with multi-channel meters - discussed later)\n",
    "\n",
    "The `meter_data_df` below is a `pd.DataFrame` object with a datetime index at 30min frequency, and a consumption column called `'energy'`. A `MeterData` object is then created as follows:"
   ]
  },
  {
   "cell_type": "code",
   "execution_count": null,
   "metadata": {
    "collapsed": false,
    "jupyter": {
     "outputs_hidden": false
    },
    "pycharm": {
     "name": "#%%\n"
    }
   },
   "outputs": [],
   "source": [
    "from ts_tariffs.meters import MeterData\n",
    "from ts_tariffs.examples.data_getters import houshold_consumption\n",
    "\n",
    "# Get consumption timeseries at 30min sample rate\n",
    "meter_data_df = houshold_consumption(30, 'minute')\n",
    "\n",
    "sample_rate = SampleRate(multiplier=30, base_freq='minutes')    # Alternatively you could use timedelta(minutes=30) here\n",
    "my_meter_data = MeterData(\n",
    "    name='energy',\n",
    "    tseries=meter_data_df['energy'],\n",
    "    sample_rate=sample_rate,\n",
    "    units='kWh'\n",
    ")"
   ]
  },
  {
   "cell_type": "markdown",
   "metadata": {
    "pycharm": {
     "name": "#%% md\n"
    }
   },
   "source": [
    "Now you can calculate the cost of energy tariffs to meter data by calling the `Tariff.apply() method`*. This returns an `AppliedCharge` object which contains the total sum of charges, as well as other data/metadata, depending on the tariff type\n",
    "\n",
    "*Note: Presently the `Tariff.sample_rate` must be in agreement with `MeterData.sample_rate`. Future versions may automatically resample, assuming the resample rule (e.g. `mean()` or `sum()`) can be inferred from the units"
   ]
  },
  {
   "cell_type": "code",
   "execution_count": null,
   "metadata": {
    "collapsed": false,
    "jupyter": {
     "outputs_hidden": false
    },
    "pycharm": {
     "name": "#%%\n"
    }
   },
   "outputs": [],
   "source": [
    "single_rate_applied_charge = single_rate_tariff.apply(my_meter_data)"
   ]
  },
  {
   "cell_type": "markdown",
   "metadata": {
    "pycharm": {
     "name": "#%% md\n"
    }
   },
   "source": [
    "A `Bill` object can be used to tabulate the charge totals for one or more tariffs if given a `MeterData`. A `Bill` consists of one or many `AppliedCharge` objects:"
   ]
  },
  {
   "cell_type": "code",
   "execution_count": null,
   "metadata": {
    "collapsed": false,
    "jupyter": {
     "outputs_hidden": false
    },
    "pycharm": {
     "name": "#%%\n"
    }
   },
   "outputs": [],
   "source": [
    "from ts_tariffs.billing import Bill\n",
    "my_bill = Bill(\n",
    "    name='my_bill',\n",
    "    charges=[\n",
    "        single_rate_tariff.apply(my_meter_data),\n",
    "        tou_tariff.apply(my_meter_data),\n",
    "        connection_tariff.apply(my_meter_data),\n",
    "    ]\n",
    ")\n",
    "print(my_bill.as_series)"
   ]
  },
  {
   "cell_type": "markdown",
   "metadata": {
    "pycharm": {
     "name": "#%% md\n"
    }
   },
   "source": []
  },
  {
   "cell_type": "code",
   "execution_count": null,
   "metadata": {
    "collapsed": false,
    "jupyter": {
     "outputs_hidden": false
    },
    "pycharm": {
     "name": "#%%\n"
    }
   },
   "outputs": [],
   "source": [
    "single_rate_tariff      1357.642382\n",
    "retail_tou              1688.470396\n",
    "connection_tariff     229635.000000\n",
    "Name: my_bill, dtype: float64"
   ]
  }
 ],
 "metadata": {
  "kernelspec": {
   "display_name": "Python 3 (ipykernel)",
   "language": "python",
   "name": "python3"
  },
  "language_info": {
   "codemirror_mode": {
    "name": "ipython",
    "version": 3
   },
   "file_extension": ".py",
   "mimetype": "text/x-python",
   "name": "python",
   "nbconvert_exporter": "python",
   "pygments_lexer": "ipython3",
   "version": "3.9.1"
  }
 },
 "nbformat": 4,
 "nbformat_minor": 4
}